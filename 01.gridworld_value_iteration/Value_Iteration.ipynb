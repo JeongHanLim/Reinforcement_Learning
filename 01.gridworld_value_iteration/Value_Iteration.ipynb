{
 "cells": [
  {
   "cell_type": "markdown",
   "metadata": {},
   "source": [
    "# Value Iteration\n",
    "- **벨만최적방정식**을 통해 가치함수를 업데이트\n",
    "\n",
    "$$v_{k+1}(s) = max_a[R_s^a + \\gamma v_k(s')]$$\n",
    "\n",
    "- 수렴한 가치함수에 대해 greedy policy\n",
    "\n",
    "$$\\pi^*(s) = argmax_{a\\in A} E [R_s^a + \\gamma v^*(s')]$$\n",
    "\n",
    "- 결론 : 최적의 정책과 최적의 가치함수라는 가정 -> Q-Learning으로 연결"
   ]
  },
  {
   "cell_type": "code",
   "execution_count": 1,
   "metadata": {
    "ExecuteTime": {
     "end_time": "2018-05-05T13:57:40.701239Z",
     "start_time": "2018-05-05T13:57:40.615906Z"
    }
   },
   "outputs": [],
   "source": [
    "from environment import GraphicDisplay, Env"
   ]
  },
  {
   "cell_type": "code",
   "execution_count": 2,
   "metadata": {
    "ExecuteTime": {
     "end_time": "2018-05-05T13:57:41.213182Z",
     "start_time": "2018-05-05T13:57:41.089465Z"
    }
   },
   "outputs": [],
   "source": [
    "class ValueIteration:\n",
    "    def __init__(self, env):\n",
    "        # 환경 객체\n",
    "        self.env = env\n",
    "        \n",
    "        # 가치 함수를 2차원 리스트로 생성\n",
    "        self.value_table = [[0.0] * env.width for _ in range(env.height)]\n",
    "        \n",
    "        # 감가율 설정\n",
    "        self.discount_factor = 0.9\n",
    "    \n",
    "    # 가치 이터레이션\n",
    "    # 벨만 최적 방정식을 통해 다음 가치 함수를 계산\n",
    "    def value_iteration(self):\n",
    "        next_value_table = [[0, 0] * self.env.width for _ in range(env.height)]\n",
    "        for state in self.env.get_all_states():\n",
    "            # state가 terminal state라면 값을 업데이트 하지 않음\n",
    "            if state == [2, 2]:\n",
    "                next_value_table[state[0]][state[1]] = 0.0\n",
    "                continue\n",
    "        \n",
    "            # 가치 함수를 위한 빈 리스트\n",
    "            value_list = []\n",
    "            \n",
    "            # 가능한 모든 행동에 대한 계산\n",
    "            for action in self.env.possible_actions:\n",
    "                next_state = self.env.state_after_action(state, action)\n",
    "                reward = self.env.get_reward(state, action)\n",
    "                next_value = self.get_value(next_state)\n",
    "                value_list.append((reward + self.discount_factor * next_value))\n",
    "        \n",
    "            # 최대값을 다음 가치함수로 대입\n",
    "            next_value_table[state[0]][state[1]] = round(max(value_list), 2)\n",
    "        self.value_table = next_value_table\n",
    "    \n",
    "    # 현재 가치 함수로부터 행동을 반환\n",
    "    def get_action(self, state):\n",
    "        \"\"\"\n",
    "        1. argmax a를 담을 action_list를 선언, \n",
    "        비교를 위한 max_value를 최소값으로 선언\n",
    "        terminal state인 경우는 반 list를 리턴\n",
    "        \"\"\"\n",
    "        action_list = []\n",
    "        max_value = -9999\n",
    "        \n",
    "        if state == [2, 2]:\n",
    "            return []\n",
    "        \n",
    "        \"\"\"\n",
    "        2. 모든 가능한 action에 대해서 R_s^a + gammaV_k(s')\n",
    "        를 계산하여  value라는 임시변수에 저장\n",
    "        \"\"\"\n",
    "        for action in self.env.possible_actions:\n",
    "            next_state = self.env.state_after_action(state, action)\n",
    "            reward = self.env.get_reward(state, action)\n",
    "            next_value = self.get_value(next_state)\n",
    "            value = (reward + self.discount_factor * next_value)\n",
    "            \n",
    "            if value > max_value:\n",
    "                action_list.clear()\n",
    "                action_list.append(action)\n",
    "                max_value = value\n",
    "            elif value == max_value:\n",
    "                action_list.append(action)\n",
    "\n",
    "        return action_list\n",
    "        \n",
    "    def get_value(self, state):\n",
    "        return round(self.value_table[state[0]][state[1]], 2)"
   ]
  },
  {
   "cell_type": "code",
   "execution_count": 3,
   "metadata": {
    "ExecuteTime": {
     "end_time": "2018-05-05T13:57:51.815716Z",
     "start_time": "2018-05-05T13:57:41.713949Z"
    }
   },
   "outputs": [],
   "source": [
    "if __name__ == '__main__':\n",
    "    env = Env()\n",
    "    value_iteration = ValueIteration(env)\n",
    "    grid_world = GraphicDisplay(value_iteration)\n",
    "    grid_world.mainloop()"
   ]
  },
  {
   "cell_type": "code",
   "execution_count": null,
   "metadata": {},
   "outputs": [],
   "source": []
  }
 ],
 "metadata": {
  "kernelspec": {
   "display_name": "Python (RL)",
   "language": "python",
   "name": "reinforcement_learning"
  },
  "language_info": {
   "codemirror_mode": {
    "name": "ipython",
    "version": 3
   },
   "file_extension": ".py",
   "mimetype": "text/x-python",
   "name": "python",
   "nbconvert_exporter": "python",
   "pygments_lexer": "ipython3",
   "version": "3.5.4"
  },
  "latex_envs": {
   "LaTeX_envs_menu_present": true,
   "autoclose": false,
   "autocomplete": true,
   "bibliofile": "biblio.bib",
   "cite_by": "apalike",
   "current_citInitial": 1,
   "eqLabelWithNumbers": true,
   "eqNumInitial": 1,
   "hotkeys": {
    "equation": "Ctrl-E",
    "itemize": "Ctrl-I"
   },
   "labels_anchors": false,
   "latex_user_defs": false,
   "report_style_numbering": false,
   "user_envs_cfg": false
  },
  "varInspector": {
   "cols": {
    "lenName": 16,
    "lenType": 16,
    "lenVar": 40
   },
   "kernels_config": {
    "python": {
     "delete_cmd_postfix": "",
     "delete_cmd_prefix": "del ",
     "library": "var_list.py",
     "varRefreshCmd": "print(var_dic_list())"
    },
    "r": {
     "delete_cmd_postfix": ") ",
     "delete_cmd_prefix": "rm(",
     "library": "var_list.r",
     "varRefreshCmd": "cat(var_dic_list()) "
    }
   },
   "types_to_exclude": [
    "module",
    "function",
    "builtin_function_or_method",
    "instance",
    "_Feature"
   ],
   "window_display": false
  }
 },
 "nbformat": 4,
 "nbformat_minor": 2
}
